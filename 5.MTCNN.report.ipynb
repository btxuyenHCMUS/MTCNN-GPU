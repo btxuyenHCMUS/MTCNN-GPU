{
 "cells": [
  {
   "cell_type": "markdown",
   "id": "technical-shepherd",
   "metadata": {},
   "source": [
    "<h1 style=\"color: blue; text-align: center;\">Multi-task Cascaded Convolutional Networks (MTCNN) for Face Detection and Facial Landmark Alignment Using Parallel</h1>\n",
    "\n",
    "---\n",
    "## Members of Team\n",
    "| MSSV | Full Name | ID Github |\n",
    "| ---- | ---- | -------- |\n",
    "| 1612835 | Bùi Trọng Xuyến | btxuyenhcmus |\n",
    "| 1612165 | Nguyễn Đào Vinh Hải | NDVHaiHCMUS |\n",
    "| 1612859 | Nguyễn Đình Hữu | NguyenDinhHuu-HCMUS |"
   ]
  },
  {
   "cell_type": "markdown",
   "id": "minimal-security",
   "metadata": {},
   "source": [
    "---\n",
    "### 1.  Mô tả ứng dụng"
   ]
  },
  {
   "cell_type": "markdown",
   "id": "nearby-network",
   "metadata": {},
   "source": [
    "---\n",
    "### 2. Cài đặt tuần tự"
   ]
  },
  {
   "cell_type": "markdown",
   "id": "combined-citizenship",
   "metadata": {},
   "source": [
    "---\n",
    "### 3. Cài đặt song song (trên GPU)"
   ]
  },
  {
   "cell_type": "markdown",
   "id": "administrative-border",
   "metadata": {},
   "source": [
    "---\n",
    "### 4. Cài đặt song song (trên GPU) + tối ưu hóa"
   ]
  },
  {
   "cell_type": "markdown",
   "id": "compressed-hazard",
   "metadata": {},
   "source": [
    "---\n",
    "### 5. Nhìn lại quá trình làm đồ án"
   ]
  },
  {
   "cell_type": "markdown",
   "id": "emotional-blend",
   "metadata": {},
   "source": [
    "---\n",
    "### 6. Tài liệu tham khảo"
   ]
  },
  {
   "cell_type": "code",
   "execution_count": null,
   "id": "integrated-genesis",
   "metadata": {},
   "outputs": [],
   "source": []
  }
 ],
 "metadata": {
  "kernelspec": {
   "display_name": "Python 3",
   "language": "python",
   "name": "python3"
  },
  "language_info": {
   "codemirror_mode": {
    "name": "ipython",
    "version": 3
   },
   "file_extension": ".py",
   "mimetype": "text/x-python",
   "name": "python",
   "nbconvert_exporter": "python",
   "pygments_lexer": "ipython3",
   "version": "3.9.2"
  }
 },
 "nbformat": 4,
 "nbformat_minor": 5
}
