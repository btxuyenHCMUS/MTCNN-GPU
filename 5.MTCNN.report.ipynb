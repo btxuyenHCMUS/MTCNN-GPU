{
 "cells": [
  {
   "cell_type": "markdown",
   "id": "sized-hazard",
   "metadata": {},
   "source": [
    "<h1 style=\"color: blue; text-align: center;\">Multi-task Cascaded Convolutional Networks (MTCNN) for Face Detection and Facial Landmark Alignment Using Parallel</h1>\n",
    "\n",
    "---\n",
    "\n",
    "<h2 style=\"color: gray; text-align: right;\">Members of Team:</h2>\n",
    "\n",
    "| MSSV | Full Name | ID Github |\n",
    "| ---- | ---- | -------- |\n",
    "| 1612835 | Bùi Trọng Xuyến | btxuyenhcmus |\n",
    "| 1612165 | Nguyễn Đào Vinh Hải | NDVHaiHCMUS |\n",
    "| 1612859 | Nguyễn Đình Hữu | NguyenDinhHuu-HCMUS |"
   ]
  },
  {
   "cell_type": "markdown",
   "id": "historical-minority",
   "metadata": {},
   "source": [
    "---\n",
    "## 1.  Mô tả ứng dụng\n",
    "\n",
    "**Input:** Một tấm ảnh RGB hoặc một video live trực tiếp.\n",
    "\n",
    "**Output:** Một tấm ảnh RGB hoặc một video live trực tiếp được bounding các object và gắn nhãn.\n",
    "\n",
    "**Ý nghĩa thực tế của ứng dụng:**\n",
    "- bài toán nhận diện khuôn mặt là một bài toán mang lại rất nhiều lợi ích hiện nay, từ việc quản lý con người, phát hiện đối tượng lạ, hay như chấm công,...\n",
    "- Khi chúng ta song song hoá được bài toán này thì sẽ đem lại lợi ích cao từ việc giảm chi phí tiền máy chủ, cho đến tiếp kiệm được thời gian.\n",
    "\n",
    "**ứng dụng này cần được tăng tốc**\n",
    "- Thời gian training của các mô hình neural hầu như đều rất chậm.\n",
    "- Khi xử lý với video khi lượng frame đưa xuống quá nhanh, kết quả trả về của mô hình không kiệp đáp ứng tạo nên độ trễ.\n",
    "- Bài toán sử dụng convolution là chủ yếu.\n",
    "- Xử lý nhiều trên matrix\n",
    "\n",
    "\n",
    "![index](./examples.png)\n",
    "> Nguồn ảnh: [https://kpzhang93.github.io/MTCNN_face_detection_alignment/](https://kpzhang93.github.io/MTCNN_face_detection_alignment/)"
   ]
  },
  {
   "cell_type": "markdown",
   "id": "arctic-tobago",
   "metadata": {},
   "source": [
    "---\n",
    "## 2. Cài đặt tuần tự\n",
    "### Ý tưởng\n",
    "![index](./index.png)\n",
    "\n",
    "### The Three Stages of MTCNN:\n",
    "Bước đầu tiên là lấy hình ảnh và thay đổi kích thước theo các tỷ lệ khác nhau để xây dựng một kim tự tháp hình ảnh, đây là đầu vào của **three-staged cascaded network**.\n",
    "![inputimage](./inputimage.png)\n",
    "> Input image is resized to different scales to build an image pyramid\n",
    "\n",
    "#### Stage 1: The Proposal Network (P-Net)\n",
    "\n",
    "![P-net](./P-net.jpeg)\n",
    "> P-Net (from MTCNN paper)\n",
    "#### Stage 2: The Refine Network (R-Net)\n",
    "\n",
    "![R-net](./R-net.jpeg)\n",
    "> R-Net (from MTCNN paper)\n",
    "#### Stage 3: The Output Network (O-Net)\n",
    "\n",
    "![O-net](./O-net.jpeg)\n",
    "> R-Net (from MTCNN paper)"
   ]
  },
  {
   "cell_type": "markdown",
   "id": "heard-empire",
   "metadata": {},
   "source": [
    "---\n",
    "### 3. Cài đặt song song (trên GPU)"
   ]
  },
  {
   "cell_type": "markdown",
   "id": "optimum-hybrid",
   "metadata": {},
   "source": [
    "---\n",
    "### 4. Cài đặt song song (trên GPU) + tối ưu hóa"
   ]
  },
  {
   "cell_type": "markdown",
   "id": "global-determination",
   "metadata": {},
   "source": [
    "---\n",
    "### 5. Nhìn lại quá trình làm đồ án"
   ]
  },
  {
   "cell_type": "markdown",
   "id": "irish-picnic",
   "metadata": {},
   "source": [
    "---\n",
    "### 6. Tài liệu tham khảo"
   ]
  },
  {
   "cell_type": "code",
   "execution_count": null,
   "id": "internal-break",
   "metadata": {},
   "outputs": [],
   "source": []
  }
 ],
 "metadata": {
  "kernelspec": {
   "display_name": "Python 3",
   "language": "python",
   "name": "python3"
  },
  "language_info": {
   "codemirror_mode": {
    "name": "ipython",
    "version": 3
   },
   "file_extension": ".py",
   "mimetype": "text/x-python",
   "name": "python",
   "nbconvert_exporter": "python",
   "pygments_lexer": "ipython3",
   "version": "3.9.2"
  }
 },
 "nbformat": 4,
 "nbformat_minor": 5
}
