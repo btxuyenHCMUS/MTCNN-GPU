{
 "cells": [
  {
   "cell_type": "markdown",
   "metadata": {},
   "source": [
    "<h1 style=\"color: blue; text-align: center;\">Multi-task Cascaded Convolutional Networks (MTCNN) for Face Detection and Facial Landmark Alignment Using Parallel</h1>\n",
    "\n",
    "---\n",
    "## Members of Team:\n",
    "\n",
    "| MSSV | Full Name | ID Github |\n",
    "| ---- | ---- | -------- |\n",
    "| 1612835 | Bùi Trọng Xuyến | btxuyenhcmus |\n",
    "| 1612165 | Nguyễn Đào Vinh Hải | NDVHaiHCMUS |\n",
    "| 1612859 | Nguyễn Đình Hữu | NguyenDinhHuu-HCMUS |"
   ]
  },
  {
   "cell_type": "markdown",
   "metadata": {},
   "source": [
    "---\n",
    "# 1.  Mô tả ứng dụng"
   ]
  },
  {
   "cell_type": "markdown",
   "metadata": {},
   "source": [
    "MTCNN là viết tắt của Multi-Task Cascaded Convolutional Networks, bao gồm 3 mạng CNN (P-Net, R-Net, O-Net) xếp chồng lên nhau và cùng hoạt động phát hiện khuôn mặt. "
   ]
  },
  {
   "cell_type": "markdown",
   "metadata": {},
   "source": [
    "### Input:"
   ]
  },
  {
   "cell_type": "markdown",
   "metadata": {},
   "source": [
    "Input của bài toán là một đoạn video hoặc hình ảnh."
   ]
  },
  {
   "cell_type": "markdown",
   "metadata": {},
   "source": [
    "### Output:"
   ]
  },
  {
   "cell_type": "markdown",
   "metadata": {},
   "source": [
    "Output của bài toán là một đoạn video hoặc hình ảnh chứa vị trí (bounding box) của khuôn mặt và các vị trí trên khuôn mặt như mắt, mũi, miệng,..."
   ]
  },
  {
   "cell_type": "markdown",
   "metadata": {},
   "source": [
    "![OutputMTCNN](OutputMTCNN.png)\n",
    "\n",
    "<center>Ouput Bài Toán MTCNN (Link nguồn: https://github.com/AITTSMD/MTCNN-Tensorflow)</center> "
   ]
  },
  {
   "cell_type": "markdown",
   "metadata": {},
   "source": [
    "### Ứng dụng thực tiễn:"
   ]
  },
  {
   "cell_type": "markdown",
   "metadata": {},
   "source": [
    "MTCNN có rất nhiều ứng dụng thực tiễn trong đời thực như là:\n",
    "- Việc nhận diện khuôn mặt có rất nhiều lợi ích trong cuộc sống hiện tại của con người: nhận diện tội phạm, phát hiện vật, phát hiện vật thể lạ, thực hiện việc chấm công tự động, theo dõi tội phạm,...\n"
   ]
  },
  {
   "cell_type": "markdown",
   "metadata": {},
   "source": [
    "### Lí do cần song song hóa bài toán:"
   ]
  },
  {
   "cell_type": "markdown",
   "metadata": {},
   "source": [
    "- Việc song song hóa bài toán sẽ giúp chúng ta tiết kiệm được chi phí thời gian, sử dụng được tối đa tài nguyên phần cứng hiện tại.\n",
    "- Giảm được độ trễ của bài toán.\n",
    "- Tăng tốc độ training của bài toán."
   ]
  },
  {
   "cell_type": "markdown",
   "metadata": {},
   "source": [
    "### Lí do bài toán có thế song song hóa:"
   ]
  },
  {
   "cell_type": "markdown",
   "metadata": {},
   "source": [
    "Do bài toán của MTCNN có sử dụng lớp convolution (tích chập ma trận)."
   ]
  },
  {
   "cell_type": "markdown",
   "metadata": {},
   "source": [
    "![convolution](Convolution_schematic.gif \"Convolution\")"
   ]
  },
  {
   "cell_type": "markdown",
   "metadata": {},
   "source": [
    "---\n",
    "# 2. Cài đặt tuần tự"
   ]
  },
  {
   "cell_type": "markdown",
   "metadata": {},
   "source": [
    "#### B1: Ảnh đầu vào sẽ được resize theo nhiều kích cỡ khác nhau theo mô hình Image Pyramid"
   ]
  },
  {
   "cell_type": "markdown",
   "metadata": {},
   "source": [
    "![Resize](Resize.png )\n",
    "\n",
    "<center>Resize Image theo mô hình Image Pyramid (Link nguồn: https://medium.com/@iselagradilla94/multi-task-cascaded-convolutional-networks-mtcnn-for-face-detection-and-facial-landmark-alignment-7c21e8007923)</center> \n"
   ]
  },
  {
   "cell_type": "markdown",
   "metadata": {},
   "source": [
    "#### B2: Sau khi Resize Image theo mô hình Image pyramid chúng ta sẽ đưa ảnh đã được resize vào một mạng fully convolutional network đó là Proposal-Network (viết tắt là P-Net)"
   ]
  },
  {
   "cell_type": "markdown",
   "metadata": {},
   "source": [
    "---\n",
    "# 3. Cài đặt song song (trên GPU)"
   ]
  },
  {
   "cell_type": "markdown",
   "metadata": {},
   "source": [
    "---\n",
    "# 4. Cài đặt song song (trên GPU) + tối ưu hóa"
   ]
  },
  {
   "cell_type": "markdown",
   "metadata": {},
   "source": [
    "---\n",
    "# 5. Nhìn lại quá trình làm đồ án"
   ]
  },
  {
   "cell_type": "markdown",
   "metadata": {},
   "source": [
    "---\n",
    "# 6. Tài liệu tham khảo"
   ]
  },
  {
   "cell_type": "code",
   "execution_count": null,
   "metadata": {},
   "outputs": [],
   "source": []
  }
 ],
 "metadata": {
  "kernelspec": {
   "display_name": "Python 3",
   "language": "python",
   "name": "python3"
  },
  "language_info": {
   "codemirror_mode": {
    "name": "ipython",
    "version": 3
   },
   "file_extension": ".py",
   "mimetype": "text/x-python",
   "name": "python",
   "nbconvert_exporter": "python",
   "pygments_lexer": "ipython3",
   "version": "3.8.5"
  }
 },
 "nbformat": 4,
 "nbformat_minor": 5
}
